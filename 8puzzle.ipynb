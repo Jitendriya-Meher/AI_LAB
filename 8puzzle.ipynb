{
 "cells": [
  {
   "cell_type": "code",
   "execution_count": 160,
   "metadata": {},
   "outputs": [],
   "source": [
    "from collections import deque\n",
    "import copy"
   ]
  },
  {
   "cell_type": "code",
   "execution_count": 161,
   "metadata": {},
   "outputs": [],
   "source": [
    "def findPos( state):\n",
    "    for i in range (3):\n",
    "        for j in range(3):\n",
    "            if( state[i][j] == 0):\n",
    "                return i,j"
   ]
  },
  {
   "cell_type": "code",
   "execution_count": 162,
   "metadata": {},
   "outputs": [],
   "source": [
    "def validPos( x, y):\n",
    "    if x>=0 and x<3 and y>=0 and y<3:\n",
    "        return True\n",
    "    return False"
   ]
  },
  {
   "cell_type": "code",
   "execution_count": 163,
   "metadata": {},
   "outputs": [],
   "source": [
    "def printArr(arr):\n",
    "    for row in arr:\n",
    "        print(row)\n",
    "    print()"
   ]
  },
  {
   "cell_type": "code",
   "execution_count": 164,
   "metadata": {},
   "outputs": [],
   "source": [
    "def notVisted( arr, val):\n",
    "    for ele in arr:\n",
    "        if ele==val:\n",
    "            return False\n",
    "    return True"
   ]
  },
  {
   "cell_type": "code",
   "execution_count": 167,
   "metadata": {},
   "outputs": [],
   "source": [
    "def BFS( start_state, goal_state):\n",
    "    queue = []\n",
    "    visited = []\n",
    "    queue.append((start_state,[]))\n",
    "    visited.append(start_state)\n",
    "\n",
    "    while len(queue) > 0:\n",
    "        state,path = queue.pop(0)\n",
    "        # print(state,path)\n",
    "\n",
    "        if state == goal_state:\n",
    "            return path\n",
    "        \n",
    "        newPath = copy.deepcopy(path)\n",
    "        newPath.append(state)\n",
    "\n",
    "        x,y = findPos(state)\n",
    "        \n",
    "        moves = [(0,-1),(0,1),(-1,0),(1,0)]\n",
    "\n",
    "        for (i,j) in moves:\n",
    "            ni = x+i\n",
    "            nj = y+j\n",
    "            if validPos(ni,nj):\n",
    "                # print(x,y)\n",
    "                # print(ni,nj)\n",
    "                new_state = copy.deepcopy(state)\n",
    "\n",
    "                new_state[x][y], new_state[ni][nj] = new_state[ni][nj], new_state[x][y]\n",
    "\n",
    "                # print(new_state)\n",
    "\n",
    "                if notVisted( visited, new_state):\n",
    "                    queue.append((new_state,newPath))\n",
    "                    visited.append(new_state)\n",
    "\n",
    "    return -1"
   ]
  },
  {
   "cell_type": "code",
   "execution_count": 166,
   "metadata": {},
   "outputs": [
    {
     "name": "stdout",
     "output_type": "stream",
     "text": [
      "[1, 2, 3]\n",
      "[4, 0, 5]\n",
      "[6, 7, 8]\n",
      "\n",
      "[1, 2, 3]\n",
      "[4, 0, 5]\n",
      "[6, 7, 8]\n",
      "\n",
      "[1, 2, 3]\n",
      "[4, 5, 0]\n",
      "[6, 7, 8]\n",
      "\n",
      "[1, 2, 3]\n",
      "[4, 5, 8]\n",
      "[6, 7, 0]\n",
      "\n",
      "[1, 2, 3]\n",
      "[4, 5, 8]\n",
      "[6, 0, 7]\n",
      "\n"
     ]
    }
   ],
   "source": [
    "start_state = [\n",
    "    [1,2,3],\n",
    "    [4,0,5],\n",
    "    [6,7,8]\n",
    "]\n",
    "goal_state = [\n",
    "    [1,2,3],\n",
    "    [4,5,8],\n",
    "    [0,6,7]\n",
    "]\n",
    "\n",
    "printArr(start_state)\n",
    "ans = BFS(start_state,goal_state)\n",
    "\n",
    "if ans == -1:\n",
    "    print(\"Path not possible\")\n",
    "else:\n",
    "    for arr in ans:\n",
    "        printArr(arr)"
   ]
  }
 ],
 "metadata": {
  "kernelspec": {
   "display_name": "Python 3",
   "language": "python",
   "name": "python3"
  },
  "language_info": {
   "codemirror_mode": {
    "name": "ipython",
    "version": 3
   },
   "file_extension": ".py",
   "mimetype": "text/x-python",
   "name": "python",
   "nbconvert_exporter": "python",
   "pygments_lexer": "ipython3",
   "version": "3.11.0"
  }
 },
 "nbformat": 4,
 "nbformat_minor": 2
}
