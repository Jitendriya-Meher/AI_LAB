{
 "cells": [
  {
   "cell_type": "code",
   "execution_count": 39,
   "metadata": {},
   "outputs": [],
   "source": [
    "from queue import PriorityQueue\n",
    "\n",
    "pq = PriorityQueue()"
   ]
  },
  {
   "cell_type": "code",
   "execution_count": 40,
   "metadata": {},
   "outputs": [],
   "source": [
    "pq.put((20,1,\"Amit\"))\n",
    "pq.put((10,2,'a'))\n",
    "pq.put((10,3,'a'))\n",
    "pq.put((10,1,'a'))\n",
    "pq.put((30,'b'))\n",
    "pq.put((40,'c'))"
   ]
  },
  {
   "cell_type": "code",
   "execution_count": 41,
   "metadata": {},
   "outputs": [
    {
     "name": "stdout",
     "output_type": "stream",
     "text": [
      "False\n",
      "priority queue not empty\n"
     ]
    }
   ],
   "source": [
    "print(pq.empty())\n",
    "\n",
    "if pq.empty():\n",
    "    print(\"priority queue is empty\")\n",
    "else:\n",
    "    print(\"priority queue not empty\")"
   ]
  },
  {
   "cell_type": "code",
   "execution_count": 42,
   "metadata": {},
   "outputs": [
    {
     "name": "stdout",
     "output_type": "stream",
     "text": [
      "(10, 1, 'a')\n",
      "(10, 2, 'a')\n",
      "(10, 3, 'a')\n",
      "(20, 1, 'Amit')\n",
      "(30, 'b')\n",
      "(40, 'c')\n"
     ]
    }
   ],
   "source": [
    "while not pq.empty():\n",
    "    print(pq.get())"
   ]
  }
 ],
 "metadata": {
  "kernelspec": {
   "display_name": "Python 3",
   "language": "python",
   "name": "python3"
  },
  "language_info": {
   "codemirror_mode": {
    "name": "ipython",
    "version": 3
   },
   "file_extension": ".py",
   "mimetype": "text/x-python",
   "name": "python",
   "nbconvert_exporter": "python",
   "pygments_lexer": "ipython3",
   "version": "3.11.0"
  }
 },
 "nbformat": 4,
 "nbformat_minor": 2
}
